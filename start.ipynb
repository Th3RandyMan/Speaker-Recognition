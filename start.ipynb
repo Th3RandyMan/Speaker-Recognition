{
 "cells": [
  {
   "cell_type": "markdown",
   "metadata": {},
   "source": [
    "# Title"
   ]
  },
  {
   "cell_type": "code",
   "execution_count": 1,
   "metadata": {},
   "outputs": [
    {
     "name": "stdout",
     "output_type": "stream",
     "text": [
      "Collecting ffprobe\n",
      "  Downloading ffprobe-0.5.zip (3.5 kB)\n",
      "  Installing build dependencies: started\n",
      "  Installing build dependencies: finished with status 'done'\n",
      "  Getting requirements to build wheel: started\n",
      "  Getting requirements to build wheel: finished with status 'done'\n",
      "  Installing backend dependencies: started\n",
      "  Installing backend dependencies: finished with status 'done'\n",
      "  Preparing metadata (pyproject.toml): started\n",
      "  Preparing metadata (pyproject.toml): finished with status 'done'\n",
      "Building wheels for collected packages: ffprobe\n",
      "  Building wheel for ffprobe (pyproject.toml): started\n",
      "  Building wheel for ffprobe (pyproject.toml): finished with status 'done'\n",
      "  Created wheel for ffprobe: filename=ffprobe-0.5-py3-none-any.whl size=3414 sha256=42fe14f7d8cc2d947d278f0cc23547cf5a0604b0f0ed752a66f40f433bd360af\n",
      "  Stored in directory: c:\\users\\randa\\appdata\\local\\packages\\pythonsoftwarefoundation.python.3.11_qbz5n2kfra8p0\\localcache\\local\\pip\\cache\\wheels\\2c\\cb\\c1\\10daee0c3fad04c9d900006cd0f24bdd47afb74a5c1c085795\n",
      "Successfully built ffprobe\n",
      "Installing collected packages: ffprobe\n",
      "Successfully installed ffprobe-0.5\n"
     ]
    }
   ],
   "source": [
    "# !pip install librosa #didnt work\n",
    "# !pip install ffmpeg #didnt work\n",
    "# !pip install pathlib\n",
    "!pip install ffprobe"
   ]
  },
  {
   "cell_type": "code",
   "execution_count": 1,
   "metadata": {},
   "outputs": [],
   "source": [
    "from pathlib import Path\n",
    "from glob import glob\n",
    "\n",
    "data_folder = Path().resolve() / \"Audio Files\"\n",
    "\n",
    "twelve_test_files = glob(f'{data_folder}\\Twelve Test\\*.m4a')\n",
    "twelve_train_files = glob(f'{data_folder}\\Twelve Train\\*.m4a')\n",
    "zero_test_files = glob(f'{data_folder}\\Zero Test\\*.m4a')\n",
    "zero_train_files = glob(f'{data_folder}\\Zero Train\\*.m4a')"
   ]
  },
  {
   "cell_type": "code",
   "execution_count": 3,
   "metadata": {},
   "outputs": [],
   "source": [
    "from pydub import AudioSegment\n",
    "\n",
    "for file_group in [twelve_test_files, twelve_train_files, zero_test_files, zero_train_files]:\n",
    "  for file in file_group:\n",
    "    sound = AudioSegment.from_file(file, format='m4a')\n",
    "    sound.export(f'{file[:-4]}.wav', format='wav')\n"
   ]
  }
 ],
 "metadata": {
  "kernelspec": {
   "display_name": "Python 3",
   "language": "python",
   "name": "python3"
  },
  "language_info": {
   "codemirror_mode": {
    "name": "ipython",
    "version": 3
   },
   "file_extension": ".py",
   "mimetype": "text/x-python",
   "name": "python",
   "nbconvert_exporter": "python",
   "pygments_lexer": "ipython3",
   "version": "3.11.8"
  }
 },
 "nbformat": 4,
 "nbformat_minor": 2
}
